{
 "cells": [
  {
   "cell_type": "markdown",
   "metadata": {},
   "source": [
    "# Creating Customer Segments"
   ]
  },
  {
   "cell_type": "markdown",
   "metadata": {},
   "source": [
    "In this project you, will analyze a dataset containing annual spending amounts for internal structure, to understand the variation in the different types of customers that a wholesale distributor interacts with.\n",
    "\n",
    "Instructions:\n",
    "\n",
    "- Run each code block below by pressing **Shift+Enter**, making sure to implement any steps marked with a TODO.\n",
    "- Answer each question in the space provided by editing the blocks labeled \"Answer:\".\n",
    "- When you are done, submit the completed notebook (.ipynb) with all code blocks executed, as well as a .pdf version (File > Download as)."
   ]
  },
  {
   "cell_type": "code",
   "execution_count": 296,
   "metadata": {
    "collapsed": false
   },
   "outputs": [
    {
     "name": "stdout",
     "output_type": "stream",
     "text": [
      "Dataset has 440 rows, 6 columns\n",
      "   Fresh  Milk  Grocery  Frozen  Detergents_Paper  Delicatessen\n",
      "0  12669  9656     7561     214              2674          1338\n",
      "1   7057  9810     9568    1762              3293          1776\n",
      "2   6353  8808     7684    2405              3516          7844\n",
      "3  13265  1196     4221    6404               507          1788\n",
      "4  22615  5410     7198    3915              1777          5185\n"
     ]
    }
   ],
   "source": [
    "# Import libraries: NumPy, pandas, matplotlib\n",
    "import numpy as np\n",
    "import pandas as pd\n",
    "import matplotlib.pyplot as plt\n",
    "\n",
    "# Tell iPython to include plots inline in the notebook\n",
    "%matplotlib inline\n",
    "\n",
    "# Read dataset\n",
    "data = pd.read_csv(\"wholesale-customers.csv\")\n",
    "print \"Dataset has {} rows, {} columns\".format(*data.shape)\n",
    "print data.head()  # print the first 5 rows"
   ]
  },
  {
   "cell_type": "markdown",
   "metadata": {},
   "source": [
    "##Feature Transformation"
   ]
  },
  {
   "cell_type": "markdown",
   "metadata": {},
   "source": [
    "**1)** In this section you will be using PCA and ICA to start to understand the structure of the data. Before doing any computations, what do you think will show up in your computations? List one or two ideas for what might show up as the first PCA dimensions, or what type of vectors will show up as ICA dimensions."
   ]
  },
  {
   "cell_type": "markdown",
   "metadata": {},
   "source": [
    "Answer: Just looking at the variation by considering the min and max of the table, we could definitely observe a dimension with capturing high variation of \"Fresh\",\"Milk\", and \"Grocery\".  The variance along the principal components play a large role in selecting dimensions. The PCA dimensions tries to mutually orthogonal, maximize variance and has an ordered set of features. \n",
    "\n",
    "ICA tries to produce components that maximizes the separation between separate classes. From the notes, we see Kurtosis which is the spikiness or peakedness is used to separate the classes. The classes in our case could be the different customers sets we have - based on high volume or low volume spend. Therefore a simple frequency distribution of anual spend 'range' over categories could show any spike or curtosis we are looking for.\n",
    "\n",
    "For low volume or family run shops, I would expect to a spike selling fresh and groceries (Fresh, Milk and Grocery) and specially prepared foods, (\"Delicatessen').\n",
    "\n",
    "For high volume customers like Sams club, I would expect them to sell more Frozen and Detergents and Paper products. I don't usually think about Milk and Fresh and Delicatessen from high volume customers. \n",
    "\n",
    "So, based on the spikes or curtosis I am expecting from above theories on those two different classes, I would expect two dimensions that maximizes the separation between the class of the customers who are the source of the distribution of the data we have.  \n",
    "\n",
    "  "
   ]
  },
  {
   "cell_type": "markdown",
   "metadata": {},
   "source": [
    "###PCA"
   ]
  },
  {
   "cell_type": "code",
   "execution_count": 297,
   "metadata": {
    "collapsed": false
   },
   "outputs": [
    {
     "name": "stdout",
     "output_type": "stream",
     "text": [
      "[[-0.97653685 -0.12118407 -0.06154039 -0.15236462  0.00705417 -0.06810471]\n",
      " [-0.11061386  0.51580216  0.76460638 -0.01872345  0.36535076  0.05707921]\n",
      " [-0.17855726  0.50988675 -0.27578088  0.71420037 -0.20440987  0.28321747]\n",
      " [-0.04187648 -0.64564047  0.37546049  0.64629232  0.14938013 -0.02039579]\n",
      " [ 0.015986    0.20323566 -0.1602915   0.22018612  0.20793016 -0.91707659]\n",
      " [-0.01576316  0.03349187  0.41093894 -0.01328898 -0.87128428 -0.26541687]]\n",
      "[ 0.45961362  0.40517227  0.07003008  0.04402344  0.01502212  0.00613848]\n"
     ]
    },
    {
     "data": {
      "text/plain": [
       "<matplotlib.axes._subplots.AxesSubplot at 0x117949810>"
      ]
     },
     "execution_count": 297,
     "metadata": {},
     "output_type": "execute_result"
    },
    {
     "data": {
      "image/png": "[encoded data removed]",
      "text/plain": [
       "<matplotlib.figure.Figure at 0x11978a290>"
      ]
     },
     "metadata": {},
     "output_type": "display_data"
    },
    {
     "data": {
      "image/png": "[encoded data removed]",
      "text/plain": [
       "<matplotlib.figure.Figure at 0x117949750>"
      ]
     },
     "metadata": {},
     "output_type": "display_data"
    }
   ],
   "source": [
    "# TODO: Apply PCA with the same number of dimensions as variables in the dataset\n",
    "from sklearn.decomposition import PCA\n",
    "pca = PCA(n_components=6)\n",
    "pca.fit(data)\n",
    "\n",
    "# Print the components and the amount of variance in the data contained in each dimension\n",
    "print pca.components_\n",
    "print pca.explained_variance_ratio_\n",
    "\n",
    "x = np.arange(6)\n",
    "plt.plot(x, 1 - np.cumsum(pca.explained_variance_ratio_), '-o')\n",
    "pd.DataFrame(pca.components_,columns=data.columns).plot(kind='bar',figsize = (12,6))\n",
    "\n"
   ]
  },
  {
   "cell_type": "code",
   "execution_count": 298,
   "metadata": {
    "collapsed": false
   },
   "outputs": [
    {
     "data": {
      "image/png": "[encoded data removed]",
      "text/plain": [
       "<matplotlib.figure.Figure at 0x11f4c3710>"
      ]
     },
     "metadata": {},
     "output_type": "display_data"
    },
    {
     "data": {
      "image/png": "[encoded data removed]",
      "text/plain": [
       "<matplotlib.figure.Figure at 0x11910bd50>"
      ]
     },
     "metadata": {},
     "output_type": "display_data"
    }
   ],
   "source": [
    "#!/usr/bin/env python\n",
    "# coding: utf8\n",
    "# GistID: 8785541\n",
    "\n",
    "from __future__ import division\n",
    "\n",
    "import numpy as np\n",
    "import matplotlib\n",
    "import matplotlib.pyplot as plt\n",
    "\n",
    "# Make a random array and then make it positive-definite\n",
    "A = np.random.randn(6, 9)\n",
    "A = np.asmatrix(A) * np.asmatrix(A.T)\n",
    "U, S, V = np.linalg.svd(A)\n",
    "eigvals = S**2 / np.cumsum(S)[-1]\n",
    "eigvals2 = S**2 / np.sum(S)\n",
    "assert (eigvals == eigvals2).all()\n",
    "\n",
    "eigvals = pca.explained_variance_ratio_\n",
    "tot = sum(eigvals)\n",
    "var_exp = [(i / tot)*100 for i in sorted(eigvals, reverse=True)]\n",
    "cum_var_exp = np.cumsum(var_exp)\n",
    "\n",
    "fig = plt.figure(figsize=(8,5))\n",
    "sing_vals = np.arange(len(eigvals)) + 1\n",
    "plt.plot(sing_vals, eigvals, 'ro-', linewidth=2)\n",
    "plt.title('Scree Plot')\n",
    "plt.xlabel('Principal Component')\n",
    "plt.ylabel('Eigenvalue')\n",
    "#I don't like the default legend so I typically make mine like below, e.g.\n",
    "#with smaller fonts and a bit transparent so I do not cover up data, and make\n",
    "#it moveable by the viewer in case upper-right is a bad place for it\n",
    "leg = plt.legend(['Eigenvalues from SVD'], loc='best', borderpad=0.3,\n",
    "                 shadow=False, prop=matplotlib.font_manager.FontProperties(size='small'),\n",
    "                 markerscale=0.4)\n",
    "leg.get_frame().set_alpha(0.4)\n",
    "leg.draggable(state=True)\n",
    "plt.show()\n",
    "\n",
    "#---\n",
    "fig = plt.figure(figsize=(8,5))\n",
    "sing_vals = np.arange(len(cum_var_exp)) + 1\n",
    "plt.plot(sing_vals, cum_var_exp, 'ro-', linewidth=2)\n",
    "plt.title('Scree Plot')\n",
    "plt.xlabel('Principal Component')\n",
    "plt.ylabel('Cumulative Sum of variation')\n",
    "#I don't like the default legend so I typically make mine like below, e.g.\n",
    "#with smaller fonts and a bit transparent so I do not cover up data, and make\n",
    "#it moveable by the viewer in case upper-right is a bad place for it\n",
    "leg = plt.legend(['Eigenvalues from SVD'], loc='best', borderpad=0.3,\n",
    "                 shadow=False, prop=matplotlib.font_manager.FontProperties(size='small'),\n",
    "                 markerscale=0.4)\n",
    "leg.get_frame().set_alpha(0.4)\n",
    "leg.draggable(state=True)\n",
    "plt.show()\n",
    "\n",
    "def main():\n",
    "    \"\"\"Run main.\"\"\"\n",
    "\n",
    "    return 0\n",
    "\n",
    "if __name__ == '__main__':\n",
    "    main()"
   ]
  },
  {
   "cell_type": "markdown",
   "metadata": {},
   "source": [
    "**2)** How quickly does the variance drop off by dimension? If you were to use PCA on this dataset, how many dimensions would you choose for your analysis? Why?"
   ]
  },
  {
   "cell_type": "markdown",
   "metadata": {
    "collapsed": true
   },
   "source": [
    "Answer: I plotted both the eigen values and their explained variation of each of the PCA dimension using \"scree plot\" concept as explained in http://support.minitab.com/en-us/minitab/17/topic-library/modeling-statistics/multivariate/principal-components-and-factor-analysis/what-is-a-scree-plot/ and \n",
    "https://plot.ly/ipython-notebooks/principal-component-analysis/#PCA-Vs.-LDA\n",
    "\n",
    "These are my observations. \n",
    "\n",
    "There is a steep drop in variation after two dimensions. The first two contribue to nearly 85% of the variation. However, based on the scree plot criteria, we will retain all the dimensions before the point that starts the flat line trend i.e. no more increase in the variation. \n",
    "\n",
    "Looking at the second graph that shows the cumulative variation by dimension, we see the flat trend starts to happens at the fifth vector. Based on the guideline provided by scree, I will use four dimenision for analyis.\n",
    "\n",
    "I also tried to see if I can use the Kaiser method as explained in http://support.minitab.com/en-us/minitab/17/topic-library/modeling-statistics/multivariate/principal-components-and-factor-analysis/number-of-principal-components/ but normalization of eigenvalues in scikit eigenvector cannot use the rule to throw out anything having value greater than 1.0. \n"
   ]
  },
  {
   "cell_type": "code",
   "execution_count": 299,
   "metadata": {
    "collapsed": false
   },
   "outputs": [],
   "source": [
    "def plot_samples(S, axis_list=None):\n",
    "    plt.scatter(S[:, 0], S[:, 1], s=2, marker='o', zorder=10,\n",
    "                color='steelblue', alpha=0.5)\n",
    "    if axis_list is not None:\n",
    "        colors = ['orange', 'red']\n",
    "        for color, axis in zip(colors, axis_list):\n",
    "            axis /= axis.std()\n",
    "            x_axis, y_axis = axis\n",
    "            # Trick to get legend to work\n",
    "            plt.plot(0.1 * x_axis, 0.1 * y_axis, linewidth=2, color=color)\n",
    "            plt.quiver(0, 0, x_axis, y_axis, zorder=11, width=0.01, scale=6,\n",
    "                       color=color)\n",
    "\n",
    "    plt.hlines(0, -3, 3)\n",
    "    plt.vlines(0, -3, 3)\n",
    "    plt.xlim(-3, 3)\n",
    "    plt.ylim(-3, 3)\n",
    "    plt.xlabel('x')\n",
    "    plt.ylabel('y')"
   ]
  },
  {
   "cell_type": "code",
   "execution_count": 300,
   "metadata": {
    "collapsed": false
   },
   "outputs": [
    {
     "data": {
      "text/plain": [
       "<matplotlib.text.Text at 0x118eee790>"
      ]
     },
     "execution_count": 300,
     "metadata": {},
     "output_type": "execute_result"
    },
    {
     "data": {
      "image/png": "[encoded data removed]",
      "text/plain": [
       "<matplotlib.figure.Figure at 0x117a6d090>"
      ]
     },
     "metadata": {},
     "output_type": "display_data"
    }
   ],
   "source": [
    "#Plotting PCA variance\n",
    "#data /= data.std(axis=0)\n",
    "S_pca_ = pca.fit(np.log(data)).transform(np.log(data))\n",
    "plt.subplot(2, 2, 4)\n",
    "plot_samples(S_pca_ / np.std(S_pca_, axis=0))\n",
    "plt.title('PCA recovered signals')"
   ]
  },
  {
   "cell_type": "code",
   "execution_count": 301,
   "metadata": {
    "collapsed": true
   },
   "outputs": [],
   "source": [
    "import pandas as pd\n",
    "from sklearn.decomposition import PCA\n",
    "\n",
    "def biplot(df):\n",
    "    # Fit on 2 components\n",
    "    pca = PCA(n_components=2, whiten=True).fit(df)\n",
    "    \n",
    "    # Plot transformed/projected data\n",
    "    ax = pd.DataFrame(\n",
    "        pca.transform(df),\n",
    "        columns=['PC1', 'PC2']\n",
    "    ).plot(kind='scatter', x='PC1', y='PC2', figsize=(10, 8), s=0.8)\n",
    "\n",
    "    # Plot arrows and labels\n",
    "    for i, (pc1, pc2) in enumerate(zip(pca.components_[0], pca.components_[1])):\n",
    "        ax.arrow(0, 0, pc1, pc2, width=0.001, fc='orange', ec='orange')\n",
    "        ax.annotate(df.columns[i], (pc1, pc2), size=12)\n",
    "\n",
    "    return ax"
   ]
  },
  {
   "cell_type": "code",
   "execution_count": 302,
   "metadata": {
    "collapsed": false
   },
   "outputs": [
    {
     "data": {
      "text/plain": [
       "(-0.25, 1)"
      ]
     },
     "execution_count": 302,
     "metadata": {},
     "output_type": "execute_result"
    },
    {
     "data": {
      "image/png": "[encoded data removed]",
      "text/plain": [
       "<matplotlib.figure.Figure at 0x11968f950>"
      ]
     },
     "metadata": {},
     "output_type": "display_data"
    }
   ],
   "source": [
    "ax = biplot(data)\n",
    "# Play around with the ranges for scaling the plot\n",
    "ax.set_xlim([-1.5, 1])\n",
    "ax.set_ylim([-0.25, 1])"
   ]
  },
  {
   "cell_type": "markdown",
   "metadata": {},
   "source": [
    "**3)** What do the dimensions seem to represent? How can you use this information?"
   ]
  },
  {
   "cell_type": "markdown",
   "metadata": {
    "collapsed": true
   },
   "source": [
    "Answer: \n",
    "\n",
    "The dimensions represent how best they could maximize the variation along the orthogonal axis and therefore minimize the loss of information. In case of 'curse of dimensionality', we could employ PCA to do a 'dimensionality reduction' while preserving information as best as possible. As a result, the computation becomes faster and efficient. \n",
    "\n",
    "Here is the correlation matrix we have from our PCA\n",
    "\n",
    "   Fresh       Milk        Grocery      Frozen    Detergents_Paper  Delicatessen\n",
    "\n",
    "[-0.97653685 -0.12118407 -0.06154039 -0.15236462  0.00705417 -0.06810471]\n",
    " [-0.11061386  0.51580216  0.76460638 -0.01872345  0.36535076  0.05707921]\n",
    " [-0.17855726  0.50988675 -0.27578088  0.71420037 -0.20440987  0.28321747]\n",
    " [-0.04187648 -0.64564047  0.37546049  0.64629232  0.14938013 -0.02039579]\n",
    " [ 0.015986    0.20323566 -0.1602915   0.22018612  0.20793016 -0.91707659]\n",
    " [-0.01576316  0.03349187  0.41093894 -0.01328898 -0.87128428 -0.26541687]\n",
    " \n",
    " Looking at PCA 0 - here is the analysis of the first component:\n",
    " [-0.97653685 -0.12118407 -0.06154039 -0.15236462  0.00705417 -0.06810471]\n",
    "   From the bar graph and biploy, we see this dimension capturing high variation in customers buying Fresh and Frozen. Only Variation along Detergents_Paper seems anit-correlated. \n",
    " \n",
    " \n",
    " Looking at PCA 1 - We see this dimension capturing customers high variation in buying Grocery, Milk and Detergents and Paper. Variation along Fresh and Frozen seem to be anti-correlated.\n",
    " [-0.11061386  0.51580216  0.76460638 -0.01872345  0.36535076  0.05707921]\n",
    "  \n",
    " \n",
    " Looking at PCA 2 - Captures High Variation along almost all the variables. The category seems to have correlation among Fresh, Grocery and Detergents and Paper and anti-correlated with Milk, Frozen and Delicatessen.\n",
    " [-0.17855726  0.50988675 -0.27578088  0.71420037 -0.20440987  0.28321747] \n",
    " \n",
    " \n",
    " Directionality - From the feedback, I understand that \"the sign of the coefficient really just determine the direction of the vector and how the features correlate to one another\". I certianly can observe that in the biplot and the bar graph. From the reference, http://forrest.psych.unc.edu/research/vista-frames/help/lecturenotes/lecture13/biplot.html\n",
    " \n",
    " It tells me the direction of the vector for a variable represents the direction in which the variable shows the most correlation to the principal component. It also indicates that \"vectors that point in the same direction correspond to variables that have similar response profiles\". The response profile in our context will be customer types who would show a similiar variation in spending on buying certain units of those variables in consideration.\n",
    " "
   ]
  },
  {
   "cell_type": "markdown",
   "metadata": {},
   "source": [
    "###ICA"
   ]
  },
  {
   "cell_type": "code",
   "execution_count": 303,
   "metadata": {
    "collapsed": false
   },
   "outputs": [
    {
     "name": "stdout",
     "output_type": "stream",
     "text": [
      "[[-0.01094139 -0.00103854  0.00735399  0.05411141 -0.00263969 -0.01678528]\n",
      " [-0.05028679  0.00635215  0.00601695  0.00328508 -0.00991827  0.0029289 ]\n",
      " [-0.00488842 -0.00162034 -0.00569967 -0.00253455  0.00242833  0.05102196]\n",
      " [ 0.00377098 -0.0171225  -0.11429953  0.00711047  0.13445226  0.01615758]\n",
      " [-0.00194711 -0.07265051  0.05525802  0.00176226 -0.01587578  0.01707609]\n",
      " [ 0.00265178 -0.01385789  0.0615885   0.00196223 -0.00444568 -0.00417354]]\n"
     ]
    },
    {
     "data": {
      "image/png": "[encoded data removed]",
      "text/plain": [
       "<matplotlib.figure.Figure at 0x1149ad290>"
      ]
     },
     "metadata": {},
     "output_type": "display_data"
    }
   ],
   "source": [
    "# TODO: Fit an ICA model to the data\n",
    "# Note: Adjust the data to have center at the origin first!\n",
    "from sklearn.decomposition import FastICA\n",
    "from sklearn import preprocessing\n",
    "ica = FastICA(n_components=6,random_state=6)\n",
    "\n",
    "#for each feature, obtain the mean and standard deviation to use it later to transform the centroids to the orignal \n",
    "#space.\n",
    "\n",
    "standard_scaler = preprocessing.StandardScaler()\n",
    "standard_scaler.fit_transform(data)\n",
    "\n",
    "data /= data.std(axis=0)\n",
    "ica.fit(data)\n",
    "\n",
    "pd.DataFrame(ica.components_,columns=data.columns).plot(kind='bar',figsize = (12,6))\n",
    "\n",
    "# Print the independent components\n",
    "print ica.components_\n",
    "#print scaler.mean_\n",
    "#print scaler.scale_"
   ]
  },
  {
   "cell_type": "markdown",
   "metadata": {},
   "source": [
    "**4)** For each vector in the ICA decomposition, write a sentence or two explaining what sort of object or property it corresponds to. What could these components be used for?"
   ]
  },
  {
   "cell_type": "markdown",
   "metadata": {
    "collapsed": true
   },
   "source": [
    "Answer: \n",
    "\n",
    "ICA attempts to decompose a multivariate signal into independent non-gaussian signals even though it cannot identify the actual number of source signlas. [taken from wikipedia]\n",
    "\n",
    "what we are seeing is the unmixing matrix which decomposes the linearly mixed data into a sum of temporally independent and spatially fixed components. The columns give the relative projection strengths of the respective features at each of the component or dimension.\n",
    "\n",
    "Directionality and Magnitude - In helping to identify the source, the magniture indicates how much of the projection of the variable we need and the direction indicates the directions of the correlation. So, as a two step process, we identify the prevelance by magnitude and then we will try to interpret the directionality.  \n",
    "\n",
    "Regarding the directionality, I found the following to be very useful explanationa:\n",
    "\n",
    "Kurtosis is a classical measure of non-Gaussianity of a distribution. The less Gaussian the distribution, the higher the absolute value of kurtosis. While a Gaussian has a kurtosis of zero, platykurtic (sub-Gaussian) distributions with broad and wide peaks have negative kurtosis, and leptokurtic (super-Gaussian) distributions with acute and narrow peaks have positive kurtosis. Reference - http://pressrelease.brainproducts.com/independent-component-analysis-demystified/\n",
    "\n",
    "Since ICA can only successfully unmix non-Gaussian signals, the positive and negative signals help identify the variables that could help unmix. Closer to zero, ICA find the signals less useful to identify the sources.\n",
    "\n",
    "Here is the matrix\n",
    "[-0.01094139 -0.00103854  0.00735399  0.05411141 -0.00263969 -0.01678528]\n",
    " [-0.05028679  0.00635215  0.00601695  0.00328508 -0.00991827  0.0029289 ]\n",
    " [-0.00488842 -0.00162034 -0.00569967 -0.00253455  0.00242833  0.05102196]\n",
    " [ 0.00377098 -0.0171225  -0.11429953  0.00711047  0.13445226  0.01615758]\n",
    " [-0.00194711 -0.07265051  0.05525802  0.00176226 -0.01587578  0.01707609]\n",
    " [ 0.00265178 -0.01385789  0.0615885   0.00196223 -0.00444568 -0.00417354]]\n",
    " \n",
    "Therefore, \n",
    "Interpretation of ICA 1:\n",
    "\n",
    "Fresh       Milk        Grocery      Frozen    Detergents_Paper  Delicatessen\n",
    "[-0.01094139 -0.00103854  0.00735399  0.05411141 -0.00263969 -0.01678528]\n",
    "\n",
    "This component helps identify a source that is positively correlated on Frozen and little bit of Grocery and little anit-correlated to Delicatssen and almost zero on others. This could indicate a store that sells a lot of Frozen like a 'Dollar Store' or one that sells Delicatessen like a gas station mart on interstates.\n",
    "\n",
    "Interpreation of ICA 3:\n",
    "Fresh       Milk        Grocery      Frozen    Detergents_Paper  Delicatessen\n",
    "[-0.00488842 -0.00162034 -0.00569967 -0.00253455  0.00242833  0.05102196]\n",
    "\n",
    "Clearly, this one sells more of Delicatessen and very less on others. Could be a Local Deli Store or Pizza Place. \n",
    "\n",
    "Interpretation of ICA 4: \n",
    "\n",
    "Fresh       Milk        Grocery      Frozen    Detergents_Paper  Delicatessen\n",
    "[ 0.00377098 -0.0171225  -0.11429953  0.00711047  0.13445226  0.01615758]\n",
    "\n",
    "The coefficients of Grocery and Detergents are way higher than others and also that these are anti-correlated. Detergents is correlated with Delicatessen while we see correlation between [Milk and Grocery]. So, this category could represent a grocery store \"or\" a high volume whole sale store that has a instore Delicatessen like Costco or Sams Club.\n",
    "\n",
    "Interpreation of ICA 6:\n",
    "Fresh       Milk        Grocery      Frozen    Detergents_Paper  Delicatessen\n",
    "[ 0.00265178 -0.01385789  0.0615885   0.00196223 -0.00444568 -0.00417354]]\n",
    "\n",
    "Grocery coefficient is higher than the rest followed by Milk. But, Grocery and Milk are 'anti-correlated'. So, it could indicate a grocery store that sells Grocery or a convenient that sells Milk related products.\n",
    "\n"
   ]
  },
  {
   "cell_type": "markdown",
   "metadata": {},
   "source": [
    "##Clustering\n",
    "\n",
    "In this section you will choose either K Means clustering or Gaussian Mixed Models clustering, which implements expectation-maximization. Then you will sample elements from the clusters to understand their significance."
   ]
  },
  {
   "cell_type": "markdown",
   "metadata": {},
   "source": [
    "###Choose a Cluster Type\n",
    "\n",
    "**5)** What are the advantages of using K Means clustering or Gaussian Mixture Models?"
   ]
  },
  {
   "cell_type": "markdown",
   "metadata": {
    "collapsed": true
   },
   "source": [
    "Answer: \n",
    "        K-means is \n",
    "         a. compuationally efficient as it uses hard clustering - that is, our case, each customer will be assigned to only one cluster based on the eucladian distance.\n",
    "         b. runs usually fast - converges using local minimum\n",
    "         c. cluster scatter is calculated as a measure of eucladian distance\n",
    "         \n",
    "        GMM is\n",
    "         a. it is the fastest algorithm for learning mixture models.\n",
    "         b. It can also draw confidence ellipsoids for multivariate models (Confidence Ellipsoid - defines the region where certain percent of all the samples that could be drawn from the underlying Gaussian distribution), \n",
    "         c. and compute the Bayesian Information Criterion to assess the number of clusters in the data (Bayesian  Information Criterior - BIC - is a criterion for model selection  among a finite set of models; the model with the lowest BIC is preferred. BIC limits the parameters used in the model by penalizing while trying to increase the likelihood).            \n",
    "         d. uses soft clustering - a probability score - for assigning objects to clusters. Objects, \n",
    "          customers in our case, could be assigned to multiple clusters of buyer or spending types. \n",
    "            \n",
    "inference:\n",
    "So, computationally, GMM is doing more  that a straight forward eucladian based k-means clustering and hence slower than k-means. \n",
    "         \n",
    "Choice of use: i make a choice to use gmm becase \n",
    "a. we can force the model to use bic to calculate the number of components and avoid overfitting. \n",
    "b. starting with n-of clusters on k-means as a parameter assumes that you have prior knowledge into the situation and can lead to less optimized model more certainly than not.\n",
    "c. provide confidence on the ellipsoids.\n",
    "d. uses expectaton maxmimization - well established algorithm - to overcome the difficult of knowing which point came from which component and gaurantees converging to local optimium."
   ]
  },
  {
   "cell_type": "markdown",
   "metadata": {},
   "source": [
    "**6)** Below is some starter code to help you visualize some cluster data. The visualization is based on [this demo](http://scikit-learn.org/stable/auto_examples/cluster/plot_kmeans_digits.html) from the sklearn documentation."
   ]
  },
  {
   "cell_type": "code",
   "execution_count": 304,
   "metadata": {
    "collapsed": true
   },
   "outputs": [],
   "source": [
    "# Import clustering modules\n",
    "from sklearn.cluster import KMeans\n",
    "from sklearn.mixture import GMM"
   ]
  },
  {
   "cell_type": "code",
   "execution_count": 305,
   "metadata": {
    "collapsed": false
   },
   "outputs": [
    {
     "name": "stdout",
     "output_type": "stream",
     "text": [
      "[[-0.19307077  0.30475306]\n",
      " [-0.43392596  0.32803921]\n",
      " [-0.81022096 -0.81416893]\n",
      " [ 0.7777625  -0.65201155]\n",
      " [-0.16609819 -1.26998809]\n",
      " [ 0.15599237  0.29480541]\n",
      " [ 0.33490718  0.52440632]\n",
      " [-0.14042659  0.23073005]\n",
      " [ 0.51673134  0.65861312]\n",
      " [-1.59029884  0.74016879]]\n"
     ]
    }
   ],
   "source": [
    "# TODO: First we reduce the data to two dimensions using PCA to capture variation\n",
    "pca = PCA(n_components=2);\n",
    "reduced_data = pca.fit_transform(data)\n",
    "print reduced_data[:10]  # print upto 10 elements"
   ]
  },
  {
   "cell_type": "code",
   "execution_count": 306,
   "metadata": {
    "collapsed": false
   },
   "outputs": [
    {
     "name": "stdout",
     "output_type": "stream",
     "text": [
      "KMeans(copy_x=True, init='k-means++', max_iter=300, n_clusters=4, n_init=10,\n",
      "    n_jobs=1, precompute_distances='auto', random_state=None, tol=0.0001,\n",
      "    verbose=0)\n"
     ]
    }
   ],
   "source": [
    "# TODO: Implement your clustering algorithm here, and fit it to the reduced data for visualization\n",
    "# The visualizer below assumes your clustering object is named 'clusters'\n",
    "\n",
    "kmeans_clusters = KMeans(init='k-means++', n_clusters=4, n_init=10)#?\n",
    "kmeans_clusters.fit(reduced_data)\n",
    "print kmeans_clusters"
   ]
  },
  {
   "cell_type": "code",
   "execution_count": 307,
   "metadata": {
    "collapsed": false
   },
   "outputs": [
    {
     "name": "stdout",
     "output_type": "stream",
     "text": [
      "GMM(covariance_type='full', init_params='wmc', min_covar=0.001,\n",
      "  n_components=5, n_init=1, n_iter=100, params='wmc', random_state=None,\n",
      "  thresh=None, tol=0.001, verbose=0)\n"
     ]
    }
   ],
   "source": [
    "lowest_bic = np.infty\n",
    "bic = []\n",
    "n_components_range = range(1, 7)\n",
    "cv_types = ['spherical', 'tied', 'diag', 'full']\n",
    "for cv_type in cv_types:\n",
    "    for n_components in n_components_range:\n",
    "        # Fit a mixture of Gaussians with EM\n",
    "        gmm = GMM(n_components=n_components, covariance_type=cv_type)\n",
    "        gmm.fit(reduced_data)\n",
    "        bic.append(gmm.bic(reduced_data))\n",
    "        if bic[-1] < lowest_bic:\n",
    "            lowest_bic = bic[-1]\n",
    "            best_gmm = gmm\n",
    "gmm_clusters=best_gmm\n",
    "print gmm_clusters"
   ]
  },
  {
   "cell_type": "code",
   "execution_count": 308,
   "metadata": {
    "collapsed": false
   },
   "outputs": [
    {
     "name": "stdout",
     "output_type": "stream",
     "text": [
      "[3 3 3 ..., 1 1 1]\n"
     ]
    }
   ],
   "source": [
    "# Plot the decision boundary by building a mesh grid to populate a graph.\n",
    "x_min, x_max = reduced_data[:, 0].min() - 1, reduced_data[:, 0].max() + 1\n",
    "y_min, y_max = reduced_data[:, 1].min() - 1, reduced_data[:, 1].max() + 1\n",
    "hx = (x_max-x_min)/1000.\n",
    "hy = (y_max-y_min)/1000.\n",
    "xx, yy = np.meshgrid(np.arange(x_min, x_max, hx), np.arange(y_min, y_max, hy))\n",
    "\n",
    "# Obtain labels for each point in mesh. Use last trained model.\n",
    "Z = gmm_clusters.predict(np.c_[xx.ravel(), yy.ravel()])\n",
    "print Z"
   ]
  },
  {
   "cell_type": "code",
   "execution_count": 309,
   "metadata": {
    "collapsed": false
   },
   "outputs": [
    {
     "name": "stdout",
     "output_type": "stream",
     "text": [
      "[[ 0.9805629   0.07638532]\n",
      " [-4.21790443 -0.09577624]\n",
      " [-0.62447778  0.73952784]\n",
      " [-2.89370972 -7.73599815]\n",
      " [ 0.21209092 -0.77742979]]\n"
     ]
    }
   ],
   "source": [
    "# TODO: Find the centroids for KMeans or the cluster means for GMM \n",
    "\n",
    "#centroids = kmeans_clusters.cluster_centers_\n",
    "centroids = gmm_clusters.means_\n",
    "print centroids"
   ]
  },
  {
   "cell_type": "code",
   "execution_count": 310,
   "metadata": {
    "collapsed": false
   },
   "outputs": [
    {
     "data": {
      "image/png": "[encoded data removed]",
      "text/plain": [
       "<matplotlib.figure.Figure at 0x117823090>"
      ]
     },
     "metadata": {},
     "output_type": "display_data"
    }
   ],
   "source": [
    "# Put the result into a color plot\n",
    "Z = Z.reshape(xx.shape)\n",
    "plt.figure(1)\n",
    "plt.clf()\n",
    "plt.imshow(Z, interpolation='nearest',\n",
    "           extent=(xx.min(), xx.max(), yy.min(), yy.max()),\n",
    "           cmap=plt.cm.Paired,\n",
    "           aspect='auto', origin='lower')\n",
    "\n",
    "plt.plot(reduced_data[:, 0], reduced_data[:, 1], 'k.', markersize=2)\n",
    "plt.scatter(centroids[:, 0], centroids[:, 1],\n",
    "            marker='x', s=169, linewidths=3,\n",
    "            color='w', zorder=10)\n",
    "plt.title('Clustering on the wholesale grocery dataset (PCA-reduced data)\\n'\n",
    "          'Centroids are marked with white cross')\n",
    "plt.xlim(x_min, x_max)\n",
    "plt.ylim(y_min, y_max)\n",
    "plt.xticks(())\n",
    "plt.yticks(())\n",
    "plt.show()"
   ]
  },
  {
   "cell_type": "code",
   "execution_count": 311,
   "metadata": {
    "collapsed": false
   },
   "outputs": [
    {
     "name": "stdout",
     "output_type": "stream",
     "text": [
      "[[ 22946.29064744   7598.61438181  10607.80561961   5670.55443858\n",
      "    3290.4829041    2252.6208022 ]\n",
      " [ 26910.76840666  28594.75212628  38952.88211148   7471.24258248\n",
      "   16664.09481885   6138.73139707]\n",
      " [ 19393.10016407  13642.05809639  20352.72917749   4103.28656631\n",
      "    8290.30348858   2435.1095862 ]\n",
      " [ 77148.6183185   27957.6395005   21076.92819111  29789.53533595\n",
      "    3917.23053946  16062.52831144]\n",
      " [ 29056.99372473  11210.2824566   13649.25174698   8392.16645801\n",
      "    4260.55577659   4003.61880804]]\n"
     ]
    },
    {
     "data": {
      "text/plain": [
       "<matplotlib.axes._subplots.AxesSubplot at 0x11b43fe10>"
      ]
     },
     "execution_count": 311,
     "metadata": {},
     "output_type": "execute_result"
    },
    {
     "data": {
      "image/png": "[encoded data removed]",
      "text/plain": [
       "<matplotlib.figure.Figure at 0x11f55b910>"
      ]
     },
     "metadata": {},
     "output_type": "display_data"
    }
   ],
   "source": [
    "# Bringing the centroid back to Original Space.\n",
    "centers = pca.inverse_transform(centroids)\n",
    "#print(centers)\n",
    "#using scikit StandardScalar(created in step 303) object to transform back to original space\n",
    "centers_os = standard_scaler.inverse_transform(centers) \n",
    "print(centers_os) #centers transformed to original space\n",
    "\n",
    "\n",
    "pd.DataFrame(centers_os,columns=data.columns).plot(kind=\"Bar\")"
   ]
  },
  {
   "cell_type": "markdown",
   "metadata": {},
   "source": [
    "** 7) ** What are the central objects in each cluster? Describe them as customers."
   ]
  },
  {
   "cell_type": "markdown",
   "metadata": {
    "collapsed": true
   },
   "source": [
    "Answer: There are five clusters are they are visible clearly. The centroids basically denotes the 'average' customer in each cluster. What I mean by average is that the PCA fit data basically identifies a customer model (a vector) whose feature values are the mean of each feature for customers represented in that cluster. The same is applicable for the set of clusters the model produced. \n",
    "\n",
    "      Fresh             Milk          Grocery          Frozen      Detergents_Paper  Delicatessen\n",
    "\n",
    " [[ 22928.21953454   7594.63474082  10608.28530854   5662.51840977 3292.19250688   2248.4305743 ]\n",
    " [ 19376.9913684    13663.33158361  20388.24906402   4096.16969433 8308.78586314   2435.0338563 ]\n",
    " [ 28943.94489312    11187.4666458  13655.19321191   8341.89876261 4272.67173759   3977.71233665]\n",
    " [ 27037.94998305   28550.15382627  38846.85414351   7527.66273064 16602.4561356   6157.51680966]\n",
    " [ 76304.46385793   27501.76531865  20717.64317112  29413.64280178  3812.63734762  15826.98692632]]\n",
    "    \n",
    " \n",
    "Looking at the first centroid, \n",
    "[ 19376.9913684    13663.33158361  20388.24906402   4096.16969433 8308.78586314   2435.0338563 ]\n",
    "It seems the clusters are having customers that have more spending on Groceries, Fresh and Milk followed by relatively (50%) less on Detergents and Paper, Frozen and Delicatessen. The particular cluster is trying to pull those who have the spending habits of heavy on groceries, fresh and milk which could tell it is a local grocery store.\n",
    "\n",
    "The last cluster  [ 76304.46385793   27501.76531865  20717.64317112  29413.64280178  3812.63734762  15826.98692632]]\n",
    "pulls customers who are overall spend-heavy especially on Fresh, followed by heavy spending (Frozen, Milk, Grocery, Delicatessen) on all others and relatively less on detergents and paper. It could actually represent high volume customers like Super Walmart who intend to sell everything and usually put the detergents and paper section to the back of the store."
   ]
  },
  {
   "cell_type": "markdown",
   "metadata": {
    "collapsed": true
   },
   "source": [
    "Conclusions\n",
    "8) Which of these techniques did you feel gave you the most insight into the data?"
   ]
  },
  {
   "cell_type": "markdown",
   "metadata": {
    "collapsed": true
   },
   "source": [
    "Answer: GMM gave the most insight into the data. The main advantage we have is the abilitiy to determine the number of components in an efficient way using BIC Criterion which I also implemented and figured out the best cluster parameters to use. \n",
    "\n",
    "It is a probabilistic model that assumes all the data points are generated from a mixture of a finite number of Gaussian distributions with unknown parameters. One can think of mixture models as generalizing k-means clustering to incorporate information about the covariance structure of the data as well as the centers of the latent Gaussians. Taken from http://scikit-learn.org/stable/modules/mixture.html#pros\n",
    "\n",
    "\n",
    "PCA and ICA helps us to look at more than one dimension at a time. PCA helps us cluster the customers through maximing the variation of their spending while ICA working through maximizing independents on their spending habits. Both the methods helps us separate the signal from the noise. Even though ICA cannot exactly pin point the number of independent signals, research into maximixing the parameters of ICA and Clustering techniques could improve the overall process. \n",
    "\n",
    "The thing that I learnt the most from this project is about the unmxing matrix in ICA and covariance matrix in PCA and helped look at the problem holistically and not let one dimesion drive the analysis. \n"
   ]
  },
  {
   "cell_type": "markdown",
   "metadata": {
    "collapsed": true
   },
   "source": [
    "**9)** How would you use that technique to help the company design new experiments?"
   ]
  },
  {
   "cell_type": "markdown",
   "metadata": {},
   "source": [
    "Answer: A/B testing allows individuals, teams, and companies to make careful changes to their user experiences while collecting data on the results.\n",
    "\n",
    "Using the above technique, we can now have five different clusters or segments of customers. Instead of implementing a completely different delivery option on all customers, we will treat the segements independently and test the delivery changes using A/B testing method on each group. \n",
    "\n",
    "Depends on the response for each control group, we will decide whether to rollout the delivery options to the entire segement of the customers. We will repeat the process for all five customer segements."
   ]
  },
  {
   "cell_type": "markdown",
   "metadata": {},
   "source": [
    "**10)** How would you use that data to help you predict future customer needs?"
   ]
  },
  {
   "cell_type": "markdown",
   "metadata": {},
   "source": [
    "Answer: Having decided that we are going to treat the identified segments independently, we can build supervised techniques like randomForest, DecisionTree to build a model with the target being the number of items sold in each category (derived from total spend). \n",
    "\n",
    "Once we have built the models,we can split them as train and test sets, fit a model for every category of food (mnilk, fresh,etc) over evey single segment then use the test to predict the demand. \n",
    "\n",
    "Once have build models with sufficient accuracy, we can then group a set of new customers as a test set, identify what cluster they will belong in (unsupervised) and then apply the correct supervised trained model to make the prediction. The key lesson is that we will have different supervised model for each segmentation."
   ]
  }
 ],
 "metadata": {
  "kernelspec": {
   "display_name": "Python 2",
   "language": "python",
   "name": "python2"
  },
  "language_info": {
   "codemirror_mode": {
    "name": "ipython",
    "version": 2
   },
   "file_extension": ".py",
   "mimetype": "text/x-python",
   "name": "python",
   "nbconvert_exporter": "python",
   "pygments_lexer": "ipython2",
   "version": "2.7.10"
  }
 },
 "nbformat": 4,
 "nbformat_minor": 0
}
